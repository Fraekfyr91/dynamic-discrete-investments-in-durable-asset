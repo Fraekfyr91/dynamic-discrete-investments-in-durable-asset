{
 "cells": [
  {
   "cell_type": "code",
   "execution_count": 1,
   "id": "af79cdc4-a78c-41b5-b45a-ce2ae1a9e2bb",
   "metadata": {},
   "outputs": [],
   "source": [
    "import pandas as pd\n",
    "import matplotlib.pyplot as plt\n",
    "import numpy as np"
   ]
  },
  {
   "cell_type": "code",
   "execution_count": 2,
   "id": "79d44fed-ce89-42c0-a955-6652e53252ad",
   "metadata": {},
   "outputs": [],
   "source": [
    "h_tau = pd.read_excel('htau.xlsx')\n",
    "lbl = pd.read_excel('lbl.xlsx')"
   ]
  },
  {
   "cell_type": "code",
   "execution_count": null,
   "id": "182b11f7-dc33-403c-8d9c-25439c942697",
   "metadata": {},
   "outputs": [],
   "source": []
  },
  {
   "cell_type": "code",
   "execution_count": 3,
   "id": "0c0d92e5-08fc-4995-bc4f-544102b41642",
   "metadata": {},
   "outputs": [],
   "source": [
    "h_tau_vals = h_tau.T.values\n",
    "lbl_types = lbl.values"
   ]
  },
  {
   "cell_type": "code",
   "execution_count": 4,
   "id": "4888d47a-1bc6-4e5c-8f76-a4b61ef6e15f",
   "metadata": {},
   "outputs": [
    {
     "data": {
      "image/png": "[encoded data removed]",
      "text/plain": [
       "<Figure size 432x288 with 1 Axes>"
      ]
     },
     "metadata": {
      "needs_background": "light"
     },
     "output_type": "display_data"
    }
   ],
   "source": [
    "from matplotlib import pyplot as plt\n",
    "idx = np.arange(h_tau_vals.shape[0])\n",
    "fig, ax = plt.subplots()\n",
    "tau = 0\n",
    "ax.bar(idx, h_tau_vals[:,tau], label=lbl_types[tau][0])\n",
    "tau += 1\n",
    "ax.bar(idx, h_tau_vals[:,tau], bottom=h_tau_vals[:,tau-1], label=lbl_types[tau][0])\n",
    "\n",
    "\n",
    "ax.set_xlim(-1,31)\n",
    "ax.bar(30, h_tau_vals[-1,tau], bottom=h_tau_vals[-1,tau-1])\n",
    "#ax.set_yscale('log')\n",
    "\n",
    "ax.set_title('Holdings')\n",
    "ax.legend()\n",
    "plt.show()"
   ]
  },
  {
   "cell_type": "code",
   "execution_count": 5,
   "id": "1acd1b40-caad-46dd-9b39-0d20ad8bac82",
   "metadata": {},
   "outputs": [
    {
     "data": {
      "text/plain": [
       "1e-05"
      ]
     },
     "execution_count": 5,
     "metadata": {},
     "output_type": "execute_result"
    }
   ],
   "source": [
    "round(10**-5,5)\n"
   ]
  }
 ],
 "metadata": {
  "kernelspec": {
   "display_name": "Python 3 (ipykernel)",
   "language": "python",
   "name": "python3"
  },
  "language_info": {
   "codemirror_mode": {
    "name": "ipython",
    "version": 3
   },
   "file_extension": ".py",
   "mimetype": "text/x-python",
   "name": "python",
   "nbconvert_exporter": "python",
   "pygments_lexer": "ipython3",
   "version": "3.9.7"
  }
 },
 "nbformat": 4,
 "nbformat_minor": 5
}
